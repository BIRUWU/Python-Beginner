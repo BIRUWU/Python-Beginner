{
 "cells": [
  {
   "cell_type": "code",
   "execution_count": 1,
   "id": "c08e0acc-4b03-4636-8e8a-a87309239e14",
   "metadata": {},
   "outputs": [],
   "source": [
    "import pandas as pd"
   ]
  },
  {
   "cell_type": "code",
   "execution_count": 3,
   "id": "c818696a-bae1-4f20-a4e7-e05f88ef5693",
   "metadata": {},
   "outputs": [],
   "source": [
    "df=pd.read_csv('/Users/biruwu/Desktop/FL_insurance_sample.csv',sep=',',nrows=10)"
   ]
  },
  {
   "cell_type": "code",
   "execution_count": 4,
   "id": "ef0b60d1-366c-42f8-aa25-735d9923bfe9",
   "metadata": {},
   "outputs": [],
   "source": [
    "import numpy as np\n",
    "import pandas as pd"
   ]
  },
  {
   "cell_type": "code",
   "execution_count": null,
   "id": "2e79c1e3-81d8-4aec-b70f-3aef9077b3f0",
   "metadata": {},
   "outputs": [],
   "source": []
  }
 ],
 "metadata": {
  "kernelspec": {
   "display_name": "Python 3 (ipykernel)",
   "language": "python",
   "name": "python3"
  },
  "language_info": {
   "codemirror_mode": {
    "name": "ipython",
    "version": 3
   },
   "file_extension": ".py",
   "mimetype": "text/x-python",
   "name": "python",
   "nbconvert_exporter": "python",
   "pygments_lexer": "ipython3",
   "version": "3.11.7"
  }
 },
 "nbformat": 4,
 "nbformat_minor": 5
}
